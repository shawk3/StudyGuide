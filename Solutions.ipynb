{
 "cells": [
  {
   "cell_type": "markdown",
   "metadata": {},
   "source": [
    "## Practice using variables and print function"
   ]
  },
  {
   "cell_type": "code",
   "execution_count": null,
   "metadata": {},
   "outputs": [],
   "source": [
    "#Using the variables x and y print the sentence: \"5 * 2 is equal to 10\"\n",
    "x = 5\n",
    "y = 2.0\n",
    "\n",
    "print(str(x) + ' * ' + str(int(y)) + ' is equal to ' + str(int(x*y)))\n",
    "#or\n",
    "print('{:d} * {:.0f} is equal to {:.0f}'.format(x, y, x*y))"
   ]
  },
  {
   "cell_type": "code",
   "execution_count": null,
   "metadata": {},
   "outputs": [],
   "source": [
    "#Using the variable pi print the phrase: \"3.141596 can be rounded to 3.14\"\n",
    "pi = 3.141596\n",
    "\n",
    "#Just dropping the last four decimal places we can do\n",
    "print('{0:f} can be displayed as {0:.2f}'.format(pi))\n",
    "\n",
    "#With proper rounding\n",
    "largePi = pi * 1000\n",
    "digit = largePi % 10\n",
    "if digit >= 5:\n",
    "    largePi += 10\n",
    "largePi = int(largePi/10)\n",
    "roundedPi = largePi / 100\n",
    "print('{0} can be rounded to {1}'.format(pi, roundedPi))\n",
    "\n",
    "#with the built in round function\n",
    "print('{0} can be rounded to {1}'.format(pi, round(pi, 2)))"
   ]
  },
  {
   "cell_type": "code",
   "execution_count": null,
   "metadata": {},
   "outputs": [],
   "source": [
    "#Using the function type(...), print the two phrases\n",
    "# The type of x is: <class 'int'>\n",
    "# The type of y is: <class 'float'>\n",
    "x = 2\n",
    "y = 5.0"
   ]
  },
  {
   "cell_type": "code",
   "execution_count": null,
   "metadata": {},
   "outputs": [],
   "source": [
    "#use the str(...) function fix this code to sucessfully print the phrase:\n",
    "# 5-score and 3 years ago...\n",
    "x = 5\n",
    "y = 3\n",
    "print(x + \"-score and \" + y + \"years ago...\")"
   ]
  },
  {
   "cell_type": "code",
   "execution_count": null,
   "metadata": {},
   "outputs": [],
   "source": [
    "#fix this code so it properly finds the average\n",
    "myList = [3,4,2,3,8]\n",
    "summation = myList[1.0] + myList[2.0] + myList[3.0] +myList[4.0] +myList[5.0]\n",
    "print(Average is: , summation/len(myList))"
   ]
  },
  {
   "cell_type": "markdown",
   "metadata": {},
   "source": [
    "## Logic"
   ]
  },
  {
   "cell_type": "code",
   "execution_count": null,
   "metadata": {},
   "outputs": [],
   "source": [
    "#Try to do this one and the next without if statements, just and/or/not operators\n",
    "\n",
    "#Fix this function so that it returns True if and only if the booleans a and b are not equal to each other\n",
    "def notEqual(a, b):\n",
    "    return True #Fix this line\n",
    "\n",
    "t = True\n",
    "f = False\n",
    "print(notEqual(t,t), \"Should be false\")\n",
    "print(notEqual(t,f), \"Should be true\")\n",
    "print(notEqual(f,f), \"Should be false\")\n",
    "print(notEqual(f,t), \"Should be true\")"
   ]
  },
  {
   "cell_type": "code",
   "execution_count": null,
   "metadata": {},
   "outputs": [],
   "source": [
    "#Fix this function so that it returns True if one of the following cases is True:\n",
    "# a is false and (b and c are not equal)\n",
    "# a b and c are all True or all False\n",
    "def strangeLogic(a, b, c):\n",
    "    return True #Fix this line\n",
    "\n",
    "t = True\n",
    "f = False\n",
    "print(strangeLogic(t,t,t), \"Should be True\")\n",
    "print(strangeLogic(t,t,f), \"Should be False\")\n",
    "print(strangeLogic(t,f,f), \"Should be False\")\n",
    "print(strangeLogic(t,f,t), \"Should be False\")\n",
    "print(strangeLogic(f,t,t), \"Should be False\")\n",
    "print(strangeLogic(f,t,f), \"Should be True\")\n",
    "print(strangeLogic(f,f,f), \"Should be True\")\n",
    "print(strangeLogic(f,f,t), \"Should be True\")"
   ]
  },
  {
   "cell_type": "markdown",
   "metadata": {},
   "source": [
    "## If statements"
   ]
  },
  {
   "cell_type": "code",
   "execution_count": null,
   "metadata": {},
   "outputs": [],
   "source": [
    "#given a quadratic equation in the form ax^2 + bx + c \n",
    "#Use the variables a,b,c to determine if there are two real roots, one real root, or no real roots\n",
    "\n",
    "#Hardcoded a,b,c. Make sure you test different values.\n",
    "a = 2\n",
    "b = -4\n",
    "c = 2"
   ]
  },
  {
   "cell_type": "code",
   "execution_count": null,
   "metadata": {},
   "outputs": [],
   "source": [
    "#Without using an absolute value sign, determine whether the two variables x and y are within 3 decimal digits of being equal\n",
    "x = 3.14159**2\n",
    "y = 9.87"
   ]
  },
  {
   "cell_type": "code",
   "execution_count": null,
   "metadata": {},
   "outputs": [],
   "source": [
    "#determine whether two values are of the same sign"
   ]
  },
  {
   "cell_type": "markdown",
   "metadata": {},
   "source": [
    "## Loops"
   ]
  },
  {
   "cell_type": "code",
   "execution_count": null,
   "metadata": {},
   "outputs": [],
   "source": [
    "#fix the code which attempts to count the number of times a word appears in a given string\n",
    "s = \"the quick brown fox jumped over the lazy dog the other day\"\n",
    "words = s.split()\n",
    "for word in words:\n",
    "    if word = 'the'\n",
    "    count += 1\n",
    "print(\"the shows up \", count, \"times\")"
   ]
  },
  {
   "cell_type": "code",
   "execution_count": null,
   "metadata": {},
   "outputs": [],
   "source": [
    "#Write code that will tell you if n is a prime number\n",
    "n = 743"
   ]
  },
  {
   "cell_type": "code",
   "execution_count": null,
   "metadata": {},
   "outputs": [],
   "source": [
    "#Write code that calculates the nth fibbonachi number"
   ]
  },
  {
   "cell_type": "code",
   "execution_count": null,
   "metadata": {},
   "outputs": [],
   "source": [
    "#Review your Bisection and Newton methods. See if you can make them more simple, clear, or effecient"
   ]
  },
  {
   "cell_type": "code",
   "execution_count": null,
   "metadata": {},
   "outputs": [],
   "source": [
    "#Review your Riemann summation and trapezoid methods"
   ]
  }
 ],
 "metadata": {
  "kernelspec": {
   "display_name": "Python 3",
   "language": "python",
   "name": "python3"
  },
  "language_info": {
   "codemirror_mode": {
    "name": "ipython",
    "version": 3
   },
   "file_extension": ".py",
   "mimetype": "text/x-python",
   "name": "python",
   "nbconvert_exporter": "python",
   "pygments_lexer": "ipython3",
   "version": "3.7.6"
  }
 },
 "nbformat": 4,
 "nbformat_minor": 4
}
