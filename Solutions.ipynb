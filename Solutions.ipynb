{
 "cells": [
  {
   "cell_type": "markdown",
   "metadata": {},
   "source": [
    "## Practice using variables and print function"
   ]
  },
  {
   "cell_type": "code",
   "execution_count": null,
   "metadata": {},
   "outputs": [],
   "source": [
    "#Using the variables x and y print the sentence: \"5 * 2 is equal to 10\"\n",
    "x = 5\n",
    "y = 2.0\n",
    "\n",
    "print(str(x) + ' * ' + str(int(y)) + ' is equal to ' + str(int(x*y)))\n",
    "#or\n",
    "print('{:d} * {:.0f} is equal to {:.0f}'.format(x, y, x*y))"
   ]
  },
  {
   "cell_type": "code",
   "execution_count": null,
   "metadata": {},
   "outputs": [],
   "source": [
    "#Using the variable pi print the phrase: \"3.141596 can be rounded to 3.14\"\n",
    "pi = 3.141596\n",
    "\n",
    "#Just dropping the last four decimal places we can do\n",
    "print('{0:f} can be displayed as {0:.2f}'.format(pi))\n",
    "\n",
    "#With proper rounding\n",
    "largePi = pi * 1000\n",
    "digit = largePi % 10\n",
    "if digit >= 5:\n",
    "    largePi += 10\n",
    "largePi = int(largePi/10)\n",
    "roundedPi = largePi / 100\n",
    "print('{0} can be rounded to {1}'.format(pi, roundedPi))\n",
    "\n",
    "#with the built in round function\n",
    "print('{0} can be rounded to {1}'.format(pi, round(pi, 2)))"
   ]
  },
  {
   "cell_type": "code",
   "execution_count": null,
   "metadata": {},
   "outputs": [],
   "source": [
    "#Using the function type(...), print the two phrases\n",
    "# The type of x is: <class 'int'>\n",
    "# The type of y is: <class 'float'>\n",
    "x = 2\n",
    "y = 5.0\n",
    "\n",
    "print('The type of x is: ' + str(type(x)))\n",
    "print('The type of y is: ' + str(type(y)))"
   ]
  },
  {
   "cell_type": "code",
   "execution_count": null,
   "metadata": {},
   "outputs": [],
   "source": [
    "#use the str(...) function fix this code to sucessfully print the phrase:\n",
    "# 5-score and 3 years ago...\n",
    "x = 5\n",
    "y = 3\n",
    "print(str(x) + \"-score and \" + str(y) + \" years ago...\")\n",
    "#don't forget to add the space just before 'years'"
   ]
  },
  {
   "cell_type": "code",
   "execution_count": null,
   "metadata": {},
   "outputs": [],
   "source": [
    "#fix this code so it properly finds the average\n",
    "myList = [3,4,2,3,8]\n",
    "#summation = myList[1.0] + myList[2.0] + myList[3.0] +myList[4.0] +myList[5.0]\n",
    "#First note that we can't use floats we must use int to index an array\n",
    "#Second, remember that we must start with 0\n",
    "summation = myList[0] + myList[1] + myList[2] + myList[3] + myList[4]\n",
    "print('Average is:', summation/len(myList)) #Add the quotes around Aver...\n",
    "#Remember that we can either add values to a string and pass them in as a single argument, or we can seperate arguments with a comma,\n",
    "#The print function can take multiple arguments and by default seperates them with a space. "
   ]
  },
  {
   "cell_type": "markdown",
   "metadata": {},
   "source": [
    "## Logic"
   ]
  },
  {
   "cell_type": "code",
   "execution_count": null,
   "metadata": {},
   "outputs": [],
   "source": [
    "#Try to do this one and the next without if statements, just and/or/not operators\n",
    "\n",
    "#Fix this function so that it returns True if and only if the booleans a and b are not equal to each other\n",
    "def notEqual(a, b):\n",
    "    return not a == b\n",
    "\n",
    "t = True\n",
    "f = False\n",
    "print(notEqual(t,t), \"Should be false\")\n",
    "print(notEqual(t,f), \" Should be true\")\n",
    "print(notEqual(f,f), \"Should be false\")\n",
    "print(notEqual(f,t), \" Should be true\")"
   ]
  },
  {
   "cell_type": "code",
   "execution_count": null,
   "metadata": {},
   "outputs": [],
   "source": [
    "#Fix this function so that it returns True if one of the following cases is True:\n",
    "# a is false and (b and c are not equal)\n",
    "# a b and c are all True or all False\n",
    "def strangeLogic(a, b, c):\n",
    "    condition1 = not a and (not b == c)\n",
    "    condition2 = a == b == c\n",
    "    return condition1 or condition2\n",
    "\n",
    "t = True\n",
    "f = False\n",
    "print(strangeLogic(t,t,t), \"Should be True\")\n",
    "print(strangeLogic(t,t,f), \"Should be False\")\n",
    "print(strangeLogic(t,f,f), \"Should be False\")\n",
    "print(strangeLogic(t,f,t), \"Should be False\")\n",
    "print(strangeLogic(f,t,t), \"Should be False\")\n",
    "print(strangeLogic(f,t,f), \"Should be True\")\n",
    "print(strangeLogic(f,f,f), \"Should be True\")\n",
    "print(strangeLogic(f,f,t), \"Should be True\")"
   ]
  },
  {
   "cell_type": "markdown",
   "metadata": {},
   "source": [
    "## If statements"
   ]
  },
  {
   "cell_type": "code",
   "execution_count": null,
   "metadata": {},
   "outputs": [],
   "source": [
    "#given a quadratic equation in the form ax^2 + bx + c \n",
    "#Use the variables a,b,c to determine if there are two real roots, one real root, or no real roots\n",
    "\n",
    "#Hardcoded a,b,c. Make sure you test different values.\n",
    "a = -3\n",
    "b = 4\n",
    "c = 2\n",
    "\n",
    "#Remember the quadratic formula, if the value under the square root is zero then there is one real root\n",
    "#                                                                   is negative then there are no real roots\n",
    "#                                                                   is positive then there are two real roots\n",
    "#The value under the quadratic is b**2 - 4ac\n",
    "discriminant = b**2 - 4 * a * c\n",
    "if discriminant > 0:\n",
    "    print('Two real roots')\n",
    "elif discriminant < 0:\n",
    "    print('No real roots')\n",
    "else:\n",
    "    print('Only one real root')"
   ]
  },
  {
   "cell_type": "code",
   "execution_count": null,
   "metadata": {},
   "outputs": [],
   "source": [
    "#Without using an absolute value sign, determine whether the two variables x and y are within 3 decimal digits of being equal\n",
    "x = 3.14159**2\n",
    "#y = 9.87\n",
    "y = 9.88\n",
    "\n",
    "if x-y < .001 and y-x < .001:\n",
    "    print(\"They are equal\")\n",
    "else:\n",
    "    print(\"They are not equal\")"
   ]
  },
  {
   "cell_type": "code",
   "execution_count": null,
   "metadata": {},
   "outputs": [],
   "source": [
    "#determine whether two values are of the same sign\n",
    "x = 1\n",
    "y = 1\n",
    "\n",
    "if x*y > 0:\n",
    "    print(\"x and y are the same sign\")\n",
    "else:\n",
    "    print(\"x and y do not have the same sign\")"
   ]
  },
  {
   "cell_type": "markdown",
   "metadata": {},
   "source": [
    "## Loops"
   ]
  },
  {
   "cell_type": "code",
   "execution_count": null,
   "metadata": {},
   "outputs": [],
   "source": [
    "#fix the code which attempts to count the number of times a word appears in a given string\n",
    "s = \"the quick brown fox jumped over the lazy dog the other day\"\n",
    "words = s.split()\n",
    "for word in words:\n",
    "    if word = 'the' #needs two equal signs and a colon\n",
    "    count += 1 #count needs to be initialized before the for loop and needs to be tabbed in once\n",
    "print(\"the shows up \", count, \"times\") #commas add a space by default don't need to add one in manually"
   ]
  },
  {
   "cell_type": "code",
   "execution_count": null,
   "metadata": {},
   "outputs": [],
   "source": [
    "s = \"the quick brown fox jumped over the lazy dog the other day\"\n",
    "words = s.split()\n",
    "count = 0\n",
    "for word in words:\n",
    "    if word == 'the': \n",
    "        count += 1 \n",
    "print(\"'the' shows up\", count, \"times\")"
   ]
  },
  {
   "cell_type": "code",
   "execution_count": null,
   "metadata": {},
   "outputs": [],
   "source": [
    "#Write code that will tell you if n is a prime number\n",
    "n = 743\n",
    "\n",
    "prime = True\n",
    "for i in range(2,n): #Make sure you start with 2, everything is divisible by 1, nothing by 0\n",
    "    if n % i == 0:\n",
    "        prime = False  #Don't get your logic backwards, it only takes one evenly divisible number to be composite, \n",
    "        break #Why continue checking if we know it is not prime, just break the loop\n",
    "if prime:\n",
    "    print(\"Is prime\")\n",
    "else:\n",
    "    print(\"Is not prime\")\n",
    "    \n",
    "    \n",
    "#why check all the way up to n, we know anything after sqrt(n) won't divide n evenly\n",
    "prime = True\n",
    "iMax = int(n**.5) #Range doesn't take floats, turn it into an int\n",
    "for i in range(2,iMax):\n",
    "    if n % i == 0:\n",
    "        prime = False\n",
    "        break\n",
    "if prime:\n",
    "    print(\"Is prime\")\n",
    "else:\n",
    "    print(\"Is not prime\")"
   ]
  },
  {
   "cell_type": "code",
   "execution_count": null,
   "metadata": {},
   "outputs": [],
   "source": [
    "#Write code that calculates the nth fibbonachi number\n",
    "#This is the n2 = n1 + n0 sequences\n",
    "N = 3\n",
    "n1 = 0\n",
    "n2 = 1\n",
    "for i in range(N-1):  #Depending on where you start counting with n1 = 0 or n1 = 1 or n1 = second 1, I started with the first 1\n",
    "    n1, n2 = n2, n1 + n2\n",
    "print(n2)\n",
    "\n",
    "\n",
    "#Another shot without pythons double assignment\n",
    "n1 = 0\n",
    "n2 = 1\n",
    "for i in range(N-1): \n",
    "    temp = n1\n",
    "    n1 = n2\n",
    "    n2 += temp\n",
    "print(n1) #This time I started with n1 = 0"
   ]
  },
  {
   "cell_type": "code",
   "execution_count": null,
   "metadata": {},
   "outputs": [],
   "source": [
    "#Review your Bisection and Newton methods. See if you can make them more simple, clear, or effecient\n",
    "def f(x):\n",
    "    return x**2\n",
    "\n",
    "def fp(x):\n",
    "    h = 0.001\n",
    "    return (f(x+h) - f(x))/h\n",
    "\n",
    "def newton(x):\n",
    "    while abs(f(x)) > 0.0001:   #One possible option for determining convergence.\n",
    "        if fp(x) == 0:\n",
    "            return \"Not able to find a root, division by 0 occured\"\n",
    "        x -= f(x)/fp(x)\n",
    "    return x\n",
    "        \n",
    "print(newton(4))\n",
    "    "
   ]
  },
  {
   "cell_type": "code",
   "execution_count": null,
   "metadata": {},
   "outputs": [],
   "source": [
    "def f(x):\n",
    "    return x**3\n",
    "\n",
    "def bisection(a, b):\n",
    "    if f(a)*f(b) > 0:\n",
    "        return \"Invalid Bounds\"\n",
    "    while abs(a-b) > 0.0001:\n",
    "        c = (a+b)/2\n",
    "        if f(c) * f(a) > 0:\n",
    "            a = c\n",
    "        else:\n",
    "            b = c\n",
    "    return c\n",
    "\n",
    "print(bisection(-1, 3))"
   ]
  },
  {
   "cell_type": "code",
   "execution_count": null,
   "metadata": {},
   "outputs": [],
   "source": [
    "#Review your Riemann summation and trapezoid methods\n",
    "def f(x):\n",
    "    return x**3\n",
    "\n",
    "def leftRiemann(a, b, N):\n",
    "    width = (b - a)/N\n",
    "    X = [a + width * i for i in range(N)]\n",
    "    Y = [f(x) for x in X]\n",
    "    return sum(Y)*width\n",
    "\n",
    "def rightRiemann(a, b, N):\n",
    "    width = (b - a)/N\n",
    "    X = [a + width * i for i in range(1,N+1)]\n",
    "    Y = [f(x) for x in X]\n",
    "    return sum(Y)*width\n",
    "\n",
    "def centerRiemann(a, b, N):\n",
    "    width = (b - a)/N\n",
    "    X = [a + width * (i+.5) for i in range(N)]\n",
    "    Y = [f(x) for x in X]\n",
    "    return sum(Y)*width\n",
    "\n",
    "#Note that trapezoid can be greatly simplified\n",
    "# AreaTrap1 + AreaTrap2 + AreaTrap3....AreaTrapN\n",
    "#= (f(a) + f(a + width))/2   +   (f(a + width) + f(a + 2*width))/2   +   ...   +   (f(b - width) + f(b))/2    times width\n",
    "#= f(a)/2 + f(a + width) + f(a + 2*width) + ... + f(b)/2       times width\n",
    "def trapezoid(a, b, N):\n",
    "    ends = (f(a) + f(b))/2\n",
    "    width = (b-a)/N\n",
    "    X = [a + width * i for i in range(1,N)] #leave out both end points\n",
    "    Y = [f(x) for x in X]\n",
    "    return (sum(Y) + ends)*width\n",
    "\n",
    "a, b, N = 0, 1, 100\n",
    "print(leftRiemann(a, b, N))\n",
    "print(rightRiemann(a, b, N))\n",
    "print(centerRiemann(a, b, N))\n",
    "print(trapezoid(a, b, N))"
   ]
  }
 ],
 "metadata": {
  "kernelspec": {
   "display_name": "Python 3",
   "language": "python",
   "name": "python3"
  },
  "language_info": {
   "codemirror_mode": {
    "name": "ipython",
    "version": 3
   },
   "file_extension": ".py",
   "mimetype": "text/x-python",
   "name": "python",
   "nbconvert_exporter": "python",
   "pygments_lexer": "ipython3",
   "version": "3.7.6"
  }
 },
 "nbformat": 4,
 "nbformat_minor": 4
}
