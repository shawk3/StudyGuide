{
 "cells": [
  {
   "cell_type": "markdown",
   "metadata": {},
   "source": [
    "## Practice using variables and print function"
   ]
  },
  {
   "cell_type": "code",
   "execution_count": 1,
   "metadata": {},
   "outputs": [],
   "source": [
    "#Using the variables x and y print the sentence: \"5 * 2 is equal to 10\"\n",
    "x = 5\n",
    "y = 2.0"
   ]
  },
  {
   "cell_type": "code",
   "execution_count": null,
   "metadata": {},
   "outputs": [],
   "source": [
    "#Using the variable pi print the phrase: \"3.14159 can be rounded to 3.14\"\n",
    "pi = 3.14159"
   ]
  },
  {
   "cell_type": "code",
   "execution_count": 4,
   "metadata": {},
   "outputs": [],
   "source": [
    "#Using the function type(...), print the two phrases\n",
    "# The type of x is: <class 'int'>\n",
    "# The type of y is: <class 'float'>\n",
    "x = 2\n",
    "y = 5.0"
   ]
  },
  {
   "cell_type": "code",
   "execution_count": 7,
   "metadata": {},
   "outputs": [],
   "source": [
    "#use the str(...) function fix this code to sucessfully print the phrase:\n",
    "# 5-score and 3 years ago...\n",
    "x = 5\n",
    "y = 3\n",
    "print(x + \"-score and \" + y + \"years ago...\")"
   ]
  },
  {
   "cell_type": "code",
   "execution_count": null,
   "metadata": {},
   "outputs": [],
   "source": [
    "#fix this code so it properly finds the average\n",
    "myList = [3,4,2,3,8]\n",
    "summation = myList[1.0] + myList[2.0] + myList[3.0] +myList[4.0] +myList[5.0]\n",
    "print(Average is: , summation/len(myList))"
   ]
  }
 ],
 "metadata": {
  "kernelspec": {
   "display_name": "Python 3",
   "language": "python",
   "name": "python3"
  },
  "language_info": {
   "codemirror_mode": {
    "name": "ipython",
    "version": 3
   },
   "file_extension": ".py",
   "mimetype": "text/x-python",
   "name": "python",
   "nbconvert_exporter": "python",
   "pygments_lexer": "ipython3",
   "version": "3.7.6"
  }
 },
 "nbformat": 4,
 "nbformat_minor": 4
}
